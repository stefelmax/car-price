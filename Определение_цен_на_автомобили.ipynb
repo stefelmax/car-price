{
  "nbformat": 4,
  "nbformat_minor": 0,
  "metadata": {
    "colab": {
      "provenance": [],
      "collapsed_sections": [
        "6CTlj7a_4JT9"
      ],
      "include_colab_link": true
    },
    "kernelspec": {
      "name": "python3",
      "display_name": "Python 3"
    },
    "accelerator": "GPU"
  },
  "cells": [
    {
      "cell_type": "markdown",
      "metadata": {
        "id": "view-in-github",
        "colab_type": "text"
      },
      "source": [
        "<a href=\"https://colab.research.google.com/github/stefelmax/car-price/blob/main/%D0%9E%D0%BF%D1%80%D0%B5%D0%B4%D0%B5%D0%BB%D0%B5%D0%BD%D0%B8%D0%B5_%D1%86%D0%B5%D0%BD_%D0%BD%D0%B0_%D0%B0%D0%B2%D1%82%D0%BE%D0%BC%D0%BE%D0%B1%D0%B8%D0%BB%D0%B8.ipynb\" target=\"_parent\"><img src=\"https://colab.research.google.com/assets/colab-badge.svg\" alt=\"Open In Colab\"/></a>"
      ]
    },
    {
      "cell_type": "markdown",
      "metadata": {
        "id": "Ah7dy1kFL2H9"
      },
      "source": []
    },
    {
      "cell_type": "code",
      "metadata": {
        "id": "qrfd6FzSLrE2"
      },
      "source": [
        "from tensorflow.keras.models import Sequential # НС прямого распространения\n",
        "from tensorflow.keras.layers import Dense, Activation, Dropout, BatchNormalization # Основные слои\n",
        "from tensorflow.keras import utils # Утилиты для to_categorical\n",
        "from tensorflow.keras.preprocessing import image # Для отрисовки изображения\n",
        "from tensorflow.keras.optimizers import Adam, Adadelta # Алгоритмы оптимизации, для настройки скорости обучения\n",
        "import numpy as np # Библиотека работы с массивами\n",
        "import matplotlib.pyplot as plt # Отрисовка изображений\n",
        "from PIL import Image # Отрисовка изображений\n",
        "import pandas as pd # Библиотека pandas\n",
        "from google.colab import files # Импорт файлов\n",
        "from sklearn.preprocessing import LabelEncoder, StandardScaler # Функции для нормализации данных\n",
        "from sklearn import preprocessing # Пакет предварительной обработки данных\n",
        "\n",
        "# Отрисовывать изображения в ноутбуке, а не в консоль или файл\n",
        "%matplotlib inline\n"
      ],
      "execution_count": null,
      "outputs": []
    },
    {
      "cell_type": "markdown",
      "metadata": {
        "id": "Sx9naxEGycrZ"
      },
      "source": [
        "# Предсказание цен машин с Юлы"
      ]
    },
    {
      "cell_type": "code",
      "metadata": {
        "id": "dtb_6dZxyf4r",
        "colab": {
          "resources": {
            "http://localhost:8080/nbextensions/google.colab/files.js": {
              "data": "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",
              "ok": true,
              "headers": [
                [
                  "content-type",
                  "application/javascript"
                ]
              ],
              "status": 200,
              "status_text": ""
            }
          },
          "base_uri": "https://localhost:8080/",
          "height": 91
        },
        "outputId": "bd70ccd9-b10d-45bb-8537-5c25bf3f1fd6"
      },
      "source": [
        "# Загружаем файлы\n",
        "files.upload()\n",
        "!ls # Выводим содержимое корневой папки"
      ],
      "execution_count": null,
      "outputs": [
        {
          "output_type": "display_data",
          "data": {
            "text/plain": [
              "<IPython.core.display.HTML object>"
            ],
            "text/html": [
              "\n",
              "     <input type=\"file\" id=\"files-aa76c55b-372b-4779-9200-f3337e57903d\" name=\"files[]\" multiple disabled\n",
              "        style=\"border:none\" />\n",
              "     <output id=\"result-aa76c55b-372b-4779-9200-f3337e57903d\">\n",
              "      Upload widget is only available when the cell has been executed in the\n",
              "      current browser session. Please rerun this cell to enable.\n",
              "      </output>\n",
              "      <script src=\"/nbextensions/google.colab/files.js\"></script> "
            ]
          },
          "metadata": {}
        },
        {
          "output_type": "stream",
          "name": "stdout",
          "text": [
            "Saving cars_new.csv to cars_new.csv\n",
            "cars_new.csv  sample_data\n"
          ]
        }
      ]
    },
    {
      "cell_type": "code",
      "metadata": {
        "id": "5v7Vz9VWynjF",
        "colab": {
          "base_uri": "https://localhost:8080/",
          "height": 206
        },
        "outputId": "07e29ae5-54b7-4cfe-912e-b6576440e67f"
      },
      "source": [
        "# Считываем csv с помощью pandas\n",
        "cars = pd.read_csv('cars_new.csv', sep=',')\n",
        "cars[:5] # Выводим первые 5 машин "
      ],
      "execution_count": null,
      "outputs": [
        {
          "output_type": "execute_result",
          "data": {
            "text/plain": [
              "        mark                               model   price  year  mileage  \\\n",
              "0        kia                              cerato  996000  2018    28000   \n",
              "1     daewoo  nexia 1 поколение [2-й рестайлинг]  140200  2012    60500   \n",
              "2     suzuki      jimny 3 поколение [рестайлинг]  750000  2011    29000   \n",
              "3        bmw              x1 18 e84 [рестайлинг]  970000  2014    49500   \n",
              "4  chevrolet                 lacetti 1 поколение  205000  2007   151445   \n",
              "\n",
              "          body       kpp    fuel  volume  power  \n",
              "0        седан   автомат  бензин     2.0  150.0  \n",
              "1        седан  механика  бензин     1.5   80.0  \n",
              "2  внедорожник   автомат  бензин     1.3   85.0  \n",
              "3    кроссовер   автомат  бензин     2.0  150.0  \n",
              "4        седан  механика  бензин     1.4   95.0  "
            ],
            "text/html": [
              "\n",
              "  <div id=\"df-ab9a34d3-f847-46e5-a87d-afd88d19bf62\">\n",
              "    <div class=\"colab-df-container\">\n",
              "      <div>\n",
              "<style scoped>\n",
              "    .dataframe tbody tr th:only-of-type {\n",
              "        vertical-align: middle;\n",
              "    }\n",
              "\n",
              "    .dataframe tbody tr th {\n",
              "        vertical-align: top;\n",
              "    }\n",
              "\n",
              "    .dataframe thead th {\n",
              "        text-align: right;\n",
              "    }\n",
              "</style>\n",
              "<table border=\"1\" class=\"dataframe\">\n",
              "  <thead>\n",
              "    <tr style=\"text-align: right;\">\n",
              "      <th></th>\n",
              "      <th>mark</th>\n",
              "      <th>model</th>\n",
              "      <th>price</th>\n",
              "      <th>year</th>\n",
              "      <th>mileage</th>\n",
              "      <th>body</th>\n",
              "      <th>kpp</th>\n",
              "      <th>fuel</th>\n",
              "      <th>volume</th>\n",
              "      <th>power</th>\n",
              "    </tr>\n",
              "  </thead>\n",
              "  <tbody>\n",
              "    <tr>\n",
              "      <th>0</th>\n",
              "      <td>kia</td>\n",
              "      <td>cerato</td>\n",
              "      <td>996000</td>\n",
              "      <td>2018</td>\n",
              "      <td>28000</td>\n",
              "      <td>седан</td>\n",
              "      <td>автомат</td>\n",
              "      <td>бензин</td>\n",
              "      <td>2.0</td>\n",
              "      <td>150.0</td>\n",
              "    </tr>\n",
              "    <tr>\n",
              "      <th>1</th>\n",
              "      <td>daewoo</td>\n",
              "      <td>nexia 1 поколение [2-й рестайлинг]</td>\n",
              "      <td>140200</td>\n",
              "      <td>2012</td>\n",
              "      <td>60500</td>\n",
              "      <td>седан</td>\n",
              "      <td>механика</td>\n",
              "      <td>бензин</td>\n",
              "      <td>1.5</td>\n",
              "      <td>80.0</td>\n",
              "    </tr>\n",
              "    <tr>\n",
              "      <th>2</th>\n",
              "      <td>suzuki</td>\n",
              "      <td>jimny 3 поколение [рестайлинг]</td>\n",
              "      <td>750000</td>\n",
              "      <td>2011</td>\n",
              "      <td>29000</td>\n",
              "      <td>внедорожник</td>\n",
              "      <td>автомат</td>\n",
              "      <td>бензин</td>\n",
              "      <td>1.3</td>\n",
              "      <td>85.0</td>\n",
              "    </tr>\n",
              "    <tr>\n",
              "      <th>3</th>\n",
              "      <td>bmw</td>\n",
              "      <td>x1 18 e84 [рестайлинг]</td>\n",
              "      <td>970000</td>\n",
              "      <td>2014</td>\n",
              "      <td>49500</td>\n",
              "      <td>кроссовер</td>\n",
              "      <td>автомат</td>\n",
              "      <td>бензин</td>\n",
              "      <td>2.0</td>\n",
              "      <td>150.0</td>\n",
              "    </tr>\n",
              "    <tr>\n",
              "      <th>4</th>\n",
              "      <td>chevrolet</td>\n",
              "      <td>lacetti 1 поколение</td>\n",
              "      <td>205000</td>\n",
              "      <td>2007</td>\n",
              "      <td>151445</td>\n",
              "      <td>седан</td>\n",
              "      <td>механика</td>\n",
              "      <td>бензин</td>\n",
              "      <td>1.4</td>\n",
              "      <td>95.0</td>\n",
              "    </tr>\n",
              "  </tbody>\n",
              "</table>\n",
              "</div>\n",
              "      <button class=\"colab-df-convert\" onclick=\"convertToInteractive('df-ab9a34d3-f847-46e5-a87d-afd88d19bf62')\"\n",
              "              title=\"Convert this dataframe to an interactive table.\"\n",
              "              style=\"display:none;\">\n",
              "        \n",
              "  <svg xmlns=\"http://www.w3.org/2000/svg\" height=\"24px\"viewBox=\"0 0 24 24\"\n",
              "       width=\"24px\">\n",
              "    <path d=\"M0 0h24v24H0V0z\" fill=\"none\"/>\n",
              "    <path d=\"M18.56 5.44l.94 2.06.94-2.06 2.06-.94-2.06-.94-.94-2.06-.94 2.06-2.06.94zm-11 1L8.5 8.5l.94-2.06 2.06-.94-2.06-.94L8.5 2.5l-.94 2.06-2.06.94zm10 10l.94 2.06.94-2.06 2.06-.94-2.06-.94-.94-2.06-.94 2.06-2.06.94z\"/><path d=\"M17.41 7.96l-1.37-1.37c-.4-.4-.92-.59-1.43-.59-.52 0-1.04.2-1.43.59L10.3 9.45l-7.72 7.72c-.78.78-.78 2.05 0 2.83L4 21.41c.39.39.9.59 1.41.59.51 0 1.02-.2 1.41-.59l7.78-7.78 2.81-2.81c.8-.78.8-2.07 0-2.86zM5.41 20L4 18.59l7.72-7.72 1.47 1.35L5.41 20z\"/>\n",
              "  </svg>\n",
              "      </button>\n",
              "      \n",
              "  <style>\n",
              "    .colab-df-container {\n",
              "      display:flex;\n",
              "      flex-wrap:wrap;\n",
              "      gap: 12px;\n",
              "    }\n",
              "\n",
              "    .colab-df-convert {\n",
              "      background-color: #E8F0FE;\n",
              "      border: none;\n",
              "      border-radius: 50%;\n",
              "      cursor: pointer;\n",
              "      display: none;\n",
              "      fill: #1967D2;\n",
              "      height: 32px;\n",
              "      padding: 0 0 0 0;\n",
              "      width: 32px;\n",
              "    }\n",
              "\n",
              "    .colab-df-convert:hover {\n",
              "      background-color: #E2EBFA;\n",
              "      box-shadow: 0px 1px 2px rgba(60, 64, 67, 0.3), 0px 1px 3px 1px rgba(60, 64, 67, 0.15);\n",
              "      fill: #174EA6;\n",
              "    }\n",
              "\n",
              "    [theme=dark] .colab-df-convert {\n",
              "      background-color: #3B4455;\n",
              "      fill: #D2E3FC;\n",
              "    }\n",
              "\n",
              "    [theme=dark] .colab-df-convert:hover {\n",
              "      background-color: #434B5C;\n",
              "      box-shadow: 0px 1px 3px 1px rgba(0, 0, 0, 0.15);\n",
              "      filter: drop-shadow(0px 1px 2px rgba(0, 0, 0, 0.3));\n",
              "      fill: #FFFFFF;\n",
              "    }\n",
              "  </style>\n",
              "\n",
              "      <script>\n",
              "        const buttonEl =\n",
              "          document.querySelector('#df-ab9a34d3-f847-46e5-a87d-afd88d19bf62 button.colab-df-convert');\n",
              "        buttonEl.style.display =\n",
              "          google.colab.kernel.accessAllowed ? 'block' : 'none';\n",
              "\n",
              "        async function convertToInteractive(key) {\n",
              "          const element = document.querySelector('#df-ab9a34d3-f847-46e5-a87d-afd88d19bf62');\n",
              "          const dataTable =\n",
              "            await google.colab.kernel.invokeFunction('convertToInteractive',\n",
              "                                                     [key], {});\n",
              "          if (!dataTable) return;\n",
              "\n",
              "          const docLinkHtml = 'Like what you see? Visit the ' +\n",
              "            '<a target=\"_blank\" href=https://colab.research.google.com/notebooks/data_table.ipynb>data table notebook</a>'\n",
              "            + ' to learn more about interactive tables.';\n",
              "          element.innerHTML = '';\n",
              "          dataTable['output_type'] = 'display_data';\n",
              "          await google.colab.output.renderOutput(dataTable, element);\n",
              "          const docLink = document.createElement('div');\n",
              "          docLink.innerHTML = docLinkHtml;\n",
              "          element.appendChild(docLink);\n",
              "        }\n",
              "      </script>\n",
              "    </div>\n",
              "  </div>\n",
              "  "
            ]
          },
          "metadata": {},
          "execution_count": 3
        }
      ]
    },
    {
      "cell_type": "code",
      "metadata": {
        "id": "-2014jPoywVZ",
        "colab": {
          "base_uri": "https://localhost:8080/"
        },
        "outputId": "2922c6cd-867c-49b4-9424-28e968b0db86"
      },
      "source": [
        "print(cars.values.shape)"
      ],
      "execution_count": null,
      "outputs": [
        {
          "output_type": "stream",
          "name": "stdout",
          "text": [
            "(70119, 10)\n"
          ]
        }
      ]
    },
    {
      "cell_type": "code",
      "metadata": {
        "id": "w_3Pk5XeyxsT"
      },
      "source": [
        "# Создаём словарь поле - его индекс\n",
        "def create_dict(s):\n",
        "  ret = {}                          # Создаём пустой словарь\n",
        "  for _id, name in enumerate(s):    # Проходим по всем парам - id и название\n",
        "    ret.update({name: _id})         # Добавляем в словарь\n",
        "  return ret\n",
        "\n",
        "# Функция преобразования в one hot encoding\n",
        "def to_ohe(value, d):\n",
        "  arr = [0] * len(d)\n",
        "  arr[d[value]] = 1\n",
        "  return arr"
      ],
      "execution_count": null,
      "outputs": []
    },
    {
      "cell_type": "code",
      "metadata": {
        "id": "bUyCBzyYyz8s",
        "colab": {
          "base_uri": "https://localhost:8080/"
        },
        "outputId": "704f32d8-8e70-480f-d986-28f15f0c114e"
      },
      "source": [
        "# Создаём словари по всем текстовым колонкам\n",
        "marks_dict = create_dict(set(cars['mark']))\n",
        "models_dict = create_dict(set(cars['model']))\n",
        "bodies_dict = create_dict(set(cars['body']))\n",
        "kpps_dict = create_dict(set(cars['kpp']))\n",
        "fuels_dict = create_dict(set(cars['fuel']))\n",
        "\n",
        "# Запоминаем цены\n",
        "prices = np.array(cars['price'], dtype=np.float)\n",
        "\n",
        "# Запоминаем числовые параметры\n",
        "# и нормируем\n",
        "years = preprocessing.scale(cars['year'])\n",
        "mileages = preprocessing.scale(cars['mileage'])\n",
        "volumes = preprocessing.scale(cars['volume'])\n",
        "powers = preprocessing.scale(cars['power'])"
      ],
      "execution_count": null,
      "outputs": [
        {
          "output_type": "stream",
          "name": "stderr",
          "text": [
            "/usr/local/lib/python3.7/dist-packages/ipykernel_launcher.py:9: DeprecationWarning: `np.float` is a deprecated alias for the builtin `float`. To silence this warning, use `float` by itself. Doing this will not modify any behavior and is safe. If you specifically wanted the numpy scalar type, use `np.float64` here.\n",
            "Deprecated in NumPy 1.20; for more details and guidance: https://numpy.org/devdocs/release/1.20.0-notes.html#deprecations\n",
            "  if __name__ == '__main__':\n"
          ]
        }
      ]
    },
    {
      "cell_type": "code",
      "metadata": {
        "id": "fq_m4WUny4k3",
        "colab": {
          "base_uri": "https://localhost:8080/"
        },
        "outputId": "bf7767f4-dd25-4455-c30b-2a6c6b7327a8"
      },
      "source": [
        "# Создаём пустую обучающую выборку\n",
        "x_train = []\n",
        "y_train = []\n",
        "\n",
        "# Проходам по всем машинам\n",
        "for _id, car in enumerate(np.array(cars)):\n",
        "  # В y_train добавляем цену\n",
        "  y_train.append(prices[_id])\n",
        "  \n",
        "  # В x_train объединяем все параметры\n",
        "  # Категорийные параметры добавляем в виде ohe\n",
        "  # Числовые параметры добавляем напрямую\n",
        "  x_tr = to_ohe(car[0], marks_dict) + \\\n",
        "        to_ohe(car[1], models_dict) + \\\n",
        "        to_ohe(car[5], bodies_dict) + \\\n",
        "        to_ohe(car[6], kpps_dict) + \\\n",
        "        to_ohe(car[7], fuels_dict) + \\\n",
        "        [years[_id]] + \\\n",
        "        [mileages[_id]] + \\\n",
        "        [volumes[_id]] + \\\n",
        "        [powers[_id]]\n",
        "  \n",
        "  # Добавляем текущую строку в общий x_train\n",
        "  x_train.append(x_tr)\n",
        "\n",
        "# Превращаем лист в numpy.array\n",
        "x_train = np.array(x_train, dtype=np.float)\n",
        "y_train = np.array(y_train, dtype=np.float)"
      ],
      "execution_count": null,
      "outputs": [
        {
          "output_type": "stream",
          "name": "stderr",
          "text": [
            "/usr/local/lib/python3.7/dist-packages/ipykernel_launcher.py:19: DeprecationWarning: `np.float` is a deprecated alias for the builtin `float`. To silence this warning, use `float` by itself. Doing this will not modify any behavior and is safe. If you specifically wanted the numpy scalar type, use `np.float64` here.\n",
            "Deprecated in NumPy 1.20; for more details and guidance: https://numpy.org/devdocs/release/1.20.0-notes.html#deprecations\n",
            "/usr/local/lib/python3.7/dist-packages/ipykernel_launcher.py:20: DeprecationWarning: `np.float` is a deprecated alias for the builtin `float`. To silence this warning, use `float` by itself. Doing this will not modify any behavior and is safe. If you specifically wanted the numpy scalar type, use `np.float64` here.\n",
            "Deprecated in NumPy 1.20; for more details and guidance: https://numpy.org/devdocs/release/1.20.0-notes.html#deprecations\n"
          ]
        }
      ]
    },
    {
      "cell_type": "code",
      "metadata": {
        "id": "S2IuqIWPy-nr",
        "colab": {
          "base_uri": "https://localhost:8080/"
        },
        "outputId": "fe172453-7e73-479d-e7f3-b37242844ba3"
      },
      "source": [
        "# Выводим размеры выборок\n",
        "print(x_train.shape)\n",
        "print(y_train.shape)\n",
        "\n",
        "len_x = int(x_train.shape[0] * 0.1) \n",
        "\n",
        "x_train = x_train[len_x:]\n",
        "y_train = y_train[len_x:]\n",
        "\n",
        "x_test = x_train[:len_x] #Создаем тестовую выборку из 10%\n",
        "y_test = y_train[:len_x] #Создаем тестовую выборку из 10%\n",
        "\n",
        "print(x_train.shape)\n",
        "print(x_test.shape)\n"
      ],
      "execution_count": null,
      "outputs": [
        {
          "output_type": "stream",
          "name": "stdout",
          "text": [
            "(70119, 3208)\n",
            "(70119,)\n",
            "(63108, 3208)\n",
            "(7011, 3208)\n"
          ]
        }
      ]
    },
    {
      "cell_type": "code",
      "metadata": {
        "id": "tyNIVawgzDX6",
        "colab": {
          "base_uri": "https://localhost:8080/"
        },
        "outputId": "3a01e297-9a35-4b7d-f26d-fb0c1b95f390"
      },
      "source": [
        "# Выводим один x_train\n",
        "print(x_test[0,:20])\n",
        "print(y_test[-20:])"
      ],
      "execution_count": null,
      "outputs": [
        {
          "output_type": "stream",
          "name": "stdout",
          "text": [
            "[1. 0. 0. 0. 0. 0. 0. 0. 0. 0. 0. 0. 0. 0. 0. 0. 0. 0. 0. 0.]\n",
            "[ 250000.  589000.  560000.  465000.  330000.  940000.  145000.   90000.\n",
            "   20000.  175000.  950000.  645000.  860000.  800000.  215000.  355000.\n",
            "  115000.   55000. 1195000.  100000.]\n"
          ]
        }
      ]
    },
    {
      "cell_type": "code",
      "metadata": {
        "id": "E06CfFFtzE4b",
        "colab": {
          "base_uri": "https://localhost:8080/"
        },
        "outputId": "5b6d0a9a-72cd-4d55-d3de-9cb288bb23f4"
      },
      "source": [
        "# Выводим y_train\n",
        "print(y_train[:10])"
      ],
      "execution_count": null,
      "outputs": [
        {
          "output_type": "stream",
          "name": "stdout",
          "text": [
            "[700000. 855000. 190000. 499000. 100000. 430000. 320000. 450000. 230000.\n",
            " 310000.]\n"
          ]
        }
      ]
    },
    {
      "cell_type": "code",
      "metadata": {
        "id": "tetSCI-BzITK"
      },
      "source": [
        "# Нормализуем y_train\n",
        "y_scaler = StandardScaler()\n",
        "y_train_scaled = y_scaler.fit_transform(y_train.reshape(-1,1)).flatten()"
      ],
      "execution_count": null,
      "outputs": []
    },
    {
      "cell_type": "code",
      "metadata": {
        "id": "n3hq9mYkOEGK",
        "colab": {
          "base_uri": "https://localhost:8080/"
        },
        "outputId": "fa3fe684-648d-4983-d0e6-675aa072a675"
      },
      "source": [
        "y_train_scaled.shape"
      ],
      "execution_count": null,
      "outputs": [
        {
          "output_type": "execute_result",
          "data": {
            "text/plain": [
              "(63108,)"
            ]
          },
          "metadata": {},
          "execution_count": 12
        }
      ]
    },
    {
      "cell_type": "code",
      "metadata": {
        "id": "v2k03NYbzI6q",
        "colab": {
          "base_uri": "https://localhost:8080/"
        },
        "outputId": "b67af145-2210-4120-f381-76569826de69"
      },
      "source": [
        "y_test_scaled = y_train_scaled[len_x:]"
      ],
      "execution_count": null,
      "outputs": [
        {
          "output_type": "stream",
          "name": "stdout",
          "text": [
            "[700000. 855000. 190000. 499000. 100000. 430000. 320000. 450000. 230000.\n",
            " 310000.]\n",
            "[ 0.27565565  0.52322374 -0.53892325 -0.04538427 -0.68267247 -0.155592\n",
            " -0.33128549 -0.12364773 -0.47503471 -0.34725763]\n",
            "[700000. 855000. 190000. 499000. 100000. 430000. 320000. 450000. 230000.\n",
            " 310000.]\n",
            "[-0.07573133  0.45134913 -0.63475606 -0.45107651 -0.60281179 -0.12364773\n",
            " -0.58683966 -0.55489539 -0.61079786 -0.7226028 ]\n",
            "(56097,)\n"
          ]
        }
      ]
    },
    {
      "cell_type": "code",
      "source": [
        "print(x_train.shape[1])"
      ],
      "metadata": {
        "colab": {
          "base_uri": "https://localhost:8080/"
        },
        "id": "5A_d6Q5RUVTM",
        "outputId": "4033de2a-a73a-46b5-8dc8-ef748f6b2df2"
      },
      "execution_count": null,
      "outputs": [
        {
          "output_type": "stream",
          "name": "stdout",
          "text": [
            "3208\n"
          ]
        }
      ]
    },
    {
      "cell_type": "code",
      "metadata": {
        "id": "nRhXUb0TCbUp"
      },
      "source": [
        "model_ula = Sequential()\n",
        "model_ula.add(Dense(1500, activation = 'relu', input_dim = 3208))\n",
        "model_ula.add(Dropout(0.4))\n",
        "# model_ula.add(BatchNormalization())\n",
        "model_ula.add(Dense(750, activation = 'tanh'))\n",
        "model_ula.add(Dropout(0.4))\n",
        "model_ula.add(Dense(500, activation = 'tanh'))\n",
        "model_ula.add(Dense(1, activation = 'linear'))"
      ],
      "execution_count": null,
      "outputs": []
    },
    {
      "cell_type": "code",
      "source": [
        "# training 1\n",
        "model_ula.compile(optimizer = Adam(0.001), loss = 'mse')\n",
        "history_1 = model_ula.fit(x_train, y_train_scaled, epochs = 50, batch_size = 500, validation_split = 0.1, verbose=1)"
      ],
      "metadata": {
        "colab": {
          "base_uri": "https://localhost:8080/"
        },
        "id": "gO4MXeY30G-2",
        "outputId": "04af9e8a-c126-4d9d-85c5-0c20086ebfa9"
      },
      "execution_count": null,
      "outputs": [
        {
          "output_type": "stream",
          "name": "stdout",
          "text": [
            "Epoch 1/50\n",
            "114/114 [==============================] - 4s 12ms/step - loss: 0.2564 - val_loss: 0.2238\n",
            "Epoch 2/50\n",
            "114/114 [==============================] - 1s 9ms/step - loss: 0.1416 - val_loss: 0.1863\n",
            "Epoch 3/50\n",
            "114/114 [==============================] - 1s 9ms/step - loss: 0.1179 - val_loss: 0.1689\n",
            "Epoch 4/50\n",
            "114/114 [==============================] - 1s 9ms/step - loss: 0.1106 - val_loss: 0.1349\n",
            "Epoch 5/50\n",
            "114/114 [==============================] - 1s 9ms/step - loss: 0.0964 - val_loss: 0.1561\n",
            "Epoch 6/50\n",
            "114/114 [==============================] - 1s 9ms/step - loss: 0.0988 - val_loss: 0.1281\n",
            "Epoch 7/50\n",
            "114/114 [==============================] - 1s 9ms/step - loss: 0.0901 - val_loss: 0.1273\n",
            "Epoch 8/50\n",
            "114/114 [==============================] - 1s 9ms/step - loss: 0.0868 - val_loss: 0.1064\n",
            "Epoch 9/50\n",
            "114/114 [==============================] - 1s 9ms/step - loss: 0.0903 - val_loss: 0.1140\n",
            "Epoch 10/50\n",
            "114/114 [==============================] - 1s 9ms/step - loss: 0.0808 - val_loss: 0.0993\n",
            "Epoch 11/50\n",
            "114/114 [==============================] - 1s 9ms/step - loss: 0.0824 - val_loss: 0.1311\n",
            "Epoch 12/50\n",
            "114/114 [==============================] - 1s 9ms/step - loss: 0.0841 - val_loss: 0.1182\n",
            "Epoch 13/50\n",
            "114/114 [==============================] - 1s 9ms/step - loss: 0.0787 - val_loss: 0.0944\n",
            "Epoch 14/50\n",
            "114/114 [==============================] - 1s 9ms/step - loss: 0.0831 - val_loss: 0.1120\n",
            "Epoch 15/50\n",
            "114/114 [==============================] - 1s 9ms/step - loss: 0.0755 - val_loss: 0.1059\n",
            "Epoch 16/50\n",
            "114/114 [==============================] - 1s 9ms/step - loss: 0.0796 - val_loss: 0.0878\n",
            "Epoch 17/50\n",
            "114/114 [==============================] - 1s 9ms/step - loss: 0.0806 - val_loss: 0.0989\n",
            "Epoch 18/50\n",
            "114/114 [==============================] - 1s 9ms/step - loss: 0.0760 - val_loss: 0.0998\n",
            "Epoch 19/50\n",
            "114/114 [==============================] - 1s 9ms/step - loss: 0.0708 - val_loss: 0.0812\n",
            "Epoch 20/50\n",
            "114/114 [==============================] - 1s 9ms/step - loss: 0.0780 - val_loss: 0.0973\n",
            "Epoch 21/50\n",
            "114/114 [==============================] - 1s 9ms/step - loss: 0.0754 - val_loss: 0.0906\n",
            "Epoch 22/50\n",
            "114/114 [==============================] - 1s 9ms/step - loss: 0.0754 - val_loss: 0.0818\n",
            "Epoch 23/50\n",
            "114/114 [==============================] - 1s 9ms/step - loss: 0.0809 - val_loss: 0.1073\n",
            "Epoch 24/50\n",
            "114/114 [==============================] - 1s 9ms/step - loss: 0.0791 - val_loss: 0.0904\n",
            "Epoch 25/50\n",
            "114/114 [==============================] - 1s 9ms/step - loss: 0.0701 - val_loss: 0.1087\n",
            "Epoch 26/50\n",
            "114/114 [==============================] - 1s 9ms/step - loss: 0.0764 - val_loss: 0.0935\n",
            "Epoch 27/50\n",
            "114/114 [==============================] - 1s 9ms/step - loss: 0.0731 - val_loss: 0.1038\n",
            "Epoch 28/50\n",
            "114/114 [==============================] - 1s 9ms/step - loss: 0.0796 - val_loss: 0.0889\n",
            "Epoch 29/50\n",
            "114/114 [==============================] - 1s 9ms/step - loss: 0.0773 - val_loss: 0.0778\n",
            "Epoch 30/50\n",
            "114/114 [==============================] - 1s 9ms/step - loss: 0.0821 - val_loss: 0.0794\n",
            "Epoch 31/50\n",
            "114/114 [==============================] - 1s 9ms/step - loss: 0.0790 - val_loss: 0.1021\n",
            "Epoch 32/50\n",
            "114/114 [==============================] - 1s 9ms/step - loss: 0.0777 - val_loss: 0.1002\n",
            "Epoch 33/50\n",
            "114/114 [==============================] - 1s 9ms/step - loss: 0.0753 - val_loss: 0.1439\n",
            "Epoch 34/50\n",
            "114/114 [==============================] - 1s 9ms/step - loss: 0.0771 - val_loss: 0.0860\n",
            "Epoch 35/50\n",
            "114/114 [==============================] - 1s 10ms/step - loss: 0.0797 - val_loss: 0.1486\n",
            "Epoch 36/50\n",
            "114/114 [==============================] - 1s 9ms/step - loss: 0.0766 - val_loss: 0.0972\n",
            "Epoch 37/50\n",
            "114/114 [==============================] - 1s 9ms/step - loss: 0.0765 - val_loss: 0.0953\n",
            "Epoch 38/50\n",
            "114/114 [==============================] - 1s 9ms/step - loss: 0.0808 - val_loss: 0.0975\n",
            "Epoch 39/50\n",
            "114/114 [==============================] - 1s 9ms/step - loss: 0.0711 - val_loss: 0.0714\n",
            "Epoch 40/50\n",
            "114/114 [==============================] - 1s 9ms/step - loss: 0.0707 - val_loss: 0.0881\n",
            "Epoch 41/50\n",
            "114/114 [==============================] - 1s 9ms/step - loss: 0.0768 - val_loss: 0.0785\n",
            "Epoch 42/50\n",
            "114/114 [==============================] - 1s 9ms/step - loss: 0.0769 - val_loss: 0.0948\n",
            "Epoch 43/50\n",
            "114/114 [==============================] - 1s 9ms/step - loss: 0.0717 - val_loss: 0.0808\n",
            "Epoch 44/50\n",
            "114/114 [==============================] - 1s 9ms/step - loss: 0.0772 - val_loss: 0.1346\n",
            "Epoch 45/50\n",
            "114/114 [==============================] - 1s 9ms/step - loss: 0.0734 - val_loss: 0.1110\n",
            "Epoch 46/50\n",
            "114/114 [==============================] - 1s 9ms/step - loss: 0.0737 - val_loss: 0.0946\n",
            "Epoch 47/50\n",
            "114/114 [==============================] - 1s 9ms/step - loss: 0.0710 - val_loss: 0.1011\n",
            "Epoch 48/50\n",
            "114/114 [==============================] - 1s 9ms/step - loss: 0.0772 - val_loss: 0.0918\n",
            "Epoch 49/50\n",
            "114/114 [==============================] - 1s 9ms/step - loss: 0.0751 - val_loss: 0.0935\n",
            "Epoch 50/50\n",
            "114/114 [==============================] - 1s 9ms/step - loss: 0.0807 - val_loss: 0.0984\n"
          ]
        }
      ]
    },
    {
      "cell_type": "code",
      "source": [
        "# training 2\n",
        "model_ula.compile(optimizer = Adam(0.0005), loss = 'mse')\n",
        "history_2 = model_ula.fit(x_train, y_train_scaled, epochs = 50, batch_size = 500, validation_split = 0.1, verbose=1)"
      ],
      "metadata": {
        "colab": {
          "base_uri": "https://localhost:8080/"
        },
        "id": "5Bb9Dc4eUCPx",
        "outputId": "755aa298-c38b-4293-fba3-4f56c4263280"
      },
      "execution_count": null,
      "outputs": [
        {
          "output_type": "stream",
          "name": "stdout",
          "text": [
            "Epoch 1/50\n",
            "114/114 [==============================] - 2s 12ms/step - loss: 0.0653 - val_loss: 0.0875\n",
            "Epoch 2/50\n",
            "114/114 [==============================] - 1s 9ms/step - loss: 0.0585 - val_loss: 0.0780\n",
            "Epoch 3/50\n",
            "114/114 [==============================] - 1s 9ms/step - loss: 0.0623 - val_loss: 0.0820\n",
            "Epoch 4/50\n",
            "114/114 [==============================] - 1s 9ms/step - loss: 0.0614 - val_loss: 0.0737\n",
            "Epoch 5/50\n",
            "114/114 [==============================] - 1s 9ms/step - loss: 0.0637 - val_loss: 0.0833\n",
            "Epoch 6/50\n",
            "114/114 [==============================] - 1s 9ms/step - loss: 0.0581 - val_loss: 0.0937\n",
            "Epoch 7/50\n",
            "114/114 [==============================] - 1s 9ms/step - loss: 0.0619 - val_loss: 0.0927\n",
            "Epoch 8/50\n",
            "114/114 [==============================] - 1s 9ms/step - loss: 0.0584 - val_loss: 0.0716\n",
            "Epoch 9/50\n",
            "114/114 [==============================] - 1s 9ms/step - loss: 0.0586 - val_loss: 0.0731\n",
            "Epoch 10/50\n",
            "114/114 [==============================] - 1s 9ms/step - loss: 0.0548 - val_loss: 0.0766\n",
            "Epoch 11/50\n",
            "114/114 [==============================] - 1s 9ms/step - loss: 0.0569 - val_loss: 0.0649\n",
            "Epoch 12/50\n",
            "114/114 [==============================] - 1s 9ms/step - loss: 0.0599 - val_loss: 0.0733\n",
            "Epoch 13/50\n",
            "114/114 [==============================] - 1s 9ms/step - loss: 0.0578 - val_loss: 0.0799\n",
            "Epoch 14/50\n",
            "114/114 [==============================] - 1s 9ms/step - loss: 0.0582 - val_loss: 0.0771\n",
            "Epoch 15/50\n",
            "114/114 [==============================] - 1s 10ms/step - loss: 0.0544 - val_loss: 0.0708\n",
            "Epoch 16/50\n",
            "114/114 [==============================] - 1s 9ms/step - loss: 0.0569 - val_loss: 0.0760\n",
            "Epoch 17/50\n",
            "114/114 [==============================] - 1s 9ms/step - loss: 0.0610 - val_loss: 0.0782\n",
            "Epoch 18/50\n",
            "114/114 [==============================] - 1s 9ms/step - loss: 0.0562 - val_loss: 0.0662\n",
            "Epoch 19/50\n",
            "114/114 [==============================] - 1s 9ms/step - loss: 0.0554 - val_loss: 0.0607\n",
            "Epoch 20/50\n",
            "114/114 [==============================] - 1s 9ms/step - loss: 0.0584 - val_loss: 0.0709\n",
            "Epoch 21/50\n",
            "114/114 [==============================] - 1s 9ms/step - loss: 0.0554 - val_loss: 0.0684\n",
            "Epoch 22/50\n",
            "114/114 [==============================] - 1s 9ms/step - loss: 0.0530 - val_loss: 0.0812\n",
            "Epoch 23/50\n",
            "114/114 [==============================] - 1s 9ms/step - loss: 0.0606 - val_loss: 0.0770\n",
            "Epoch 24/50\n",
            "114/114 [==============================] - 1s 9ms/step - loss: 0.0565 - val_loss: 0.0940\n",
            "Epoch 25/50\n",
            "114/114 [==============================] - 1s 9ms/step - loss: 0.0553 - val_loss: 0.0719\n",
            "Epoch 26/50\n",
            "114/114 [==============================] - 1s 9ms/step - loss: 0.0560 - val_loss: 0.0797\n",
            "Epoch 27/50\n",
            "114/114 [==============================] - 1s 9ms/step - loss: 0.0544 - val_loss: 0.0720\n",
            "Epoch 28/50\n",
            "114/114 [==============================] - 1s 9ms/step - loss: 0.0554 - val_loss: 0.0817\n",
            "Epoch 29/50\n",
            "114/114 [==============================] - 1s 9ms/step - loss: 0.0520 - val_loss: 0.0959\n",
            "Epoch 30/50\n",
            "114/114 [==============================] - 1s 9ms/step - loss: 0.0563 - val_loss: 0.0741\n",
            "Epoch 31/50\n",
            "114/114 [==============================] - 1s 9ms/step - loss: 0.0589 - val_loss: 0.0725\n",
            "Epoch 32/50\n",
            "114/114 [==============================] - 1s 9ms/step - loss: 0.0549 - val_loss: 0.0721\n",
            "Epoch 33/50\n",
            "114/114 [==============================] - 1s 9ms/step - loss: 0.0570 - val_loss: 0.0882\n",
            "Epoch 34/50\n",
            "114/114 [==============================] - 1s 9ms/step - loss: 0.0572 - val_loss: 0.0680\n",
            "Epoch 35/50\n",
            "114/114 [==============================] - 1s 9ms/step - loss: 0.0549 - val_loss: 0.0892\n",
            "Epoch 36/50\n",
            "114/114 [==============================] - 1s 9ms/step - loss: 0.0597 - val_loss: 0.0751\n",
            "Epoch 37/50\n",
            "114/114 [==============================] - 1s 9ms/step - loss: 0.0557 - val_loss: 0.0749\n",
            "Epoch 38/50\n",
            "114/114 [==============================] - 1s 9ms/step - loss: 0.0530 - val_loss: 0.0709\n",
            "Epoch 39/50\n",
            "114/114 [==============================] - 1s 9ms/step - loss: 0.0594 - val_loss: 0.0758\n",
            "Epoch 40/50\n",
            "114/114 [==============================] - 1s 9ms/step - loss: 0.0564 - val_loss: 0.0707\n",
            "Epoch 41/50\n",
            "114/114 [==============================] - 1s 9ms/step - loss: 0.0536 - val_loss: 0.0737\n",
            "Epoch 42/50\n",
            "114/114 [==============================] - 1s 9ms/step - loss: 0.0529 - val_loss: 0.0791\n",
            "Epoch 43/50\n",
            "114/114 [==============================] - 1s 9ms/step - loss: 0.0544 - val_loss: 0.0797\n",
            "Epoch 44/50\n",
            "114/114 [==============================] - 1s 9ms/step - loss: 0.0549 - val_loss: 0.0629\n",
            "Epoch 45/50\n",
            "114/114 [==============================] - 1s 9ms/step - loss: 0.0557 - val_loss: 0.0904\n",
            "Epoch 46/50\n",
            "114/114 [==============================] - 1s 9ms/step - loss: 0.0571 - val_loss: 0.0863\n",
            "Epoch 47/50\n",
            "114/114 [==============================] - 1s 9ms/step - loss: 0.0546 - val_loss: 0.0852\n",
            "Epoch 48/50\n",
            "114/114 [==============================] - 1s 9ms/step - loss: 0.0528 - val_loss: 0.0822\n",
            "Epoch 49/50\n",
            "114/114 [==============================] - 1s 9ms/step - loss: 0.0548 - val_loss: 0.0784\n",
            "Epoch 50/50\n",
            "114/114 [==============================] - 1s 9ms/step - loss: 0.0540 - val_loss: 0.0681\n"
          ]
        }
      ]
    },
    {
      "cell_type": "code",
      "source": [
        "model_ula.compile(optimizer = Adam(0.0001), loss = 'mse')\n",
        "history_3 = model_ula.fit(x_train, y_train_scaled, epochs = 150, batch_size = 750, validation_split = 0.1, verbose=1)\n"
      ],
      "metadata": {
        "colab": {
          "base_uri": "https://localhost:8080/"
        },
        "id": "m4nP0fdnTddd",
        "outputId": "2270f9b6-f402-4988-9f29-1b3e33c43131"
      },
      "execution_count": null,
      "outputs": [
        {
          "output_type": "stream",
          "name": "stdout",
          "text": [
            "Epoch 1/150\n",
            "76/76 [==============================] - 1s 14ms/step - loss: 0.0476 - val_loss: 0.0659\n",
            "Epoch 2/150\n",
            "76/76 [==============================] - 1s 12ms/step - loss: 0.0446 - val_loss: 0.0651\n",
            "Epoch 3/150\n",
            "76/76 [==============================] - 1s 12ms/step - loss: 0.0454 - val_loss: 0.0650\n",
            "Epoch 4/150\n",
            "76/76 [==============================] - 1s 12ms/step - loss: 0.0448 - val_loss: 0.0651\n",
            "Epoch 5/150\n",
            "76/76 [==============================] - 1s 12ms/step - loss: 0.0450 - val_loss: 0.0671\n",
            "Epoch 6/150\n",
            "76/76 [==============================] - 1s 12ms/step - loss: 0.0434 - val_loss: 0.0680\n",
            "Epoch 7/150\n",
            "76/76 [==============================] - 1s 12ms/step - loss: 0.0437 - val_loss: 0.0629\n",
            "Epoch 8/150\n",
            "76/76 [==============================] - 1s 12ms/step - loss: 0.0414 - val_loss: 0.0627\n",
            "Epoch 9/150\n",
            "76/76 [==============================] - 1s 12ms/step - loss: 0.0422 - val_loss: 0.0635\n",
            "Epoch 10/150\n",
            "76/76 [==============================] - 1s 12ms/step - loss: 0.0443 - val_loss: 0.0647\n",
            "Epoch 11/150\n",
            "76/76 [==============================] - 1s 12ms/step - loss: 0.0442 - val_loss: 0.0625\n",
            "Epoch 12/150\n",
            "76/76 [==============================] - 1s 12ms/step - loss: 0.0422 - val_loss: 0.0641\n",
            "Epoch 13/150\n",
            "76/76 [==============================] - 1s 12ms/step - loss: 0.0407 - val_loss: 0.0606\n",
            "Epoch 14/150\n",
            "76/76 [==============================] - 1s 12ms/step - loss: 0.0423 - val_loss: 0.0608\n",
            "Epoch 15/150\n",
            "76/76 [==============================] - 1s 12ms/step - loss: 0.0416 - val_loss: 0.0645\n",
            "Epoch 16/150\n",
            "76/76 [==============================] - 1s 12ms/step - loss: 0.0392 - val_loss: 0.0627\n",
            "Epoch 17/150\n",
            "76/76 [==============================] - 1s 12ms/step - loss: 0.0412 - val_loss: 0.0692\n",
            "Epoch 18/150\n",
            "76/76 [==============================] - 1s 12ms/step - loss: 0.0406 - val_loss: 0.0644\n",
            "Epoch 19/150\n",
            "76/76 [==============================] - 1s 12ms/step - loss: 0.0427 - val_loss: 0.0635\n",
            "Epoch 20/150\n",
            "76/76 [==============================] - 1s 12ms/step - loss: 0.0397 - val_loss: 0.0658\n",
            "Epoch 21/150\n",
            "76/76 [==============================] - 1s 11ms/step - loss: 0.0409 - val_loss: 0.0665\n",
            "Epoch 22/150\n",
            "76/76 [==============================] - 1s 12ms/step - loss: 0.0407 - val_loss: 0.0657\n",
            "Epoch 23/150\n",
            "76/76 [==============================] - 1s 12ms/step - loss: 0.0416 - val_loss: 0.0624\n",
            "Epoch 24/150\n",
            "76/76 [==============================] - 1s 13ms/step - loss: 0.0403 - val_loss: 0.0632\n",
            "Epoch 25/150\n",
            "76/76 [==============================] - 1s 12ms/step - loss: 0.0416 - val_loss: 0.0623\n",
            "Epoch 26/150\n",
            "76/76 [==============================] - 1s 12ms/step - loss: 0.0391 - val_loss: 0.0636\n",
            "Epoch 27/150\n",
            "76/76 [==============================] - 1s 12ms/step - loss: 0.0395 - val_loss: 0.0654\n",
            "Epoch 28/150\n",
            "76/76 [==============================] - 1s 12ms/step - loss: 0.0394 - val_loss: 0.0639\n",
            "Epoch 29/150\n",
            "76/76 [==============================] - 1s 12ms/step - loss: 0.0385 - val_loss: 0.0637\n",
            "Epoch 30/150\n",
            "76/76 [==============================] - 1s 12ms/step - loss: 0.0381 - val_loss: 0.0645\n",
            "Epoch 31/150\n",
            "76/76 [==============================] - 1s 12ms/step - loss: 0.0370 - val_loss: 0.0616\n",
            "Epoch 32/150\n",
            "76/76 [==============================] - 1s 12ms/step - loss: 0.0371 - val_loss: 0.0631\n",
            "Epoch 33/150\n",
            "76/76 [==============================] - 1s 12ms/step - loss: 0.0378 - val_loss: 0.0597\n",
            "Epoch 34/150\n",
            "76/76 [==============================] - 1s 12ms/step - loss: 0.0379 - val_loss: 0.0602\n",
            "Epoch 35/150\n",
            "76/76 [==============================] - 1s 12ms/step - loss: 0.0367 - val_loss: 0.0613\n",
            "Epoch 36/150\n",
            "76/76 [==============================] - 1s 12ms/step - loss: 0.0387 - val_loss: 0.0644\n",
            "Epoch 37/150\n",
            "76/76 [==============================] - 1s 12ms/step - loss: 0.0387 - val_loss: 0.0636\n",
            "Epoch 38/150\n",
            "76/76 [==============================] - 1s 12ms/step - loss: 0.0383 - val_loss: 0.0616\n",
            "Epoch 39/150\n",
            "76/76 [==============================] - 1s 12ms/step - loss: 0.0409 - val_loss: 0.0601\n",
            "Epoch 40/150\n",
            "76/76 [==============================] - 1s 12ms/step - loss: 0.0383 - val_loss: 0.0622\n",
            "Epoch 41/150\n",
            "76/76 [==============================] - 1s 12ms/step - loss: 0.0393 - val_loss: 0.0634\n",
            "Epoch 42/150\n",
            "76/76 [==============================] - 1s 12ms/step - loss: 0.0388 - val_loss: 0.0649\n",
            "Epoch 43/150\n",
            "76/76 [==============================] - 1s 12ms/step - loss: 0.0391 - val_loss: 0.0633\n",
            "Epoch 44/150\n",
            "76/76 [==============================] - 1s 12ms/step - loss: 0.0389 - val_loss: 0.0602\n",
            "Epoch 45/150\n",
            "76/76 [==============================] - 1s 12ms/step - loss: 0.0366 - val_loss: 0.0630\n",
            "Epoch 46/150\n",
            "76/76 [==============================] - 1s 12ms/step - loss: 0.0393 - val_loss: 0.0662\n",
            "Epoch 47/150\n",
            "76/76 [==============================] - 1s 12ms/step - loss: 0.0393 - val_loss: 0.0620\n",
            "Epoch 48/150\n",
            "76/76 [==============================] - 1s 12ms/step - loss: 0.0380 - val_loss: 0.0664\n",
            "Epoch 49/150\n",
            "76/76 [==============================] - 1s 12ms/step - loss: 0.0384 - val_loss: 0.0603\n",
            "Epoch 50/150\n",
            "76/76 [==============================] - 1s 12ms/step - loss: 0.0360 - val_loss: 0.0627\n",
            "Epoch 51/150\n",
            "76/76 [==============================] - 1s 12ms/step - loss: 0.0392 - val_loss: 0.0634\n",
            "Epoch 52/150\n",
            "76/76 [==============================] - 1s 12ms/step - loss: 0.0382 - val_loss: 0.0637\n",
            "Epoch 53/150\n",
            "76/76 [==============================] - 1s 12ms/step - loss: 0.0379 - val_loss: 0.0624\n",
            "Epoch 54/150\n",
            "76/76 [==============================] - 1s 12ms/step - loss: 0.0387 - val_loss: 0.0622\n",
            "Epoch 55/150\n",
            "76/76 [==============================] - 1s 12ms/step - loss: 0.0366 - val_loss: 0.0635\n",
            "Epoch 56/150\n",
            "76/76 [==============================] - 1s 12ms/step - loss: 0.0378 - val_loss: 0.0653\n",
            "Epoch 57/150\n",
            "76/76 [==============================] - 1s 12ms/step - loss: 0.0362 - val_loss: 0.0619\n",
            "Epoch 58/150\n",
            "76/76 [==============================] - 1s 12ms/step - loss: 0.0356 - val_loss: 0.0619\n",
            "Epoch 59/150\n",
            "76/76 [==============================] - 1s 12ms/step - loss: 0.0387 - val_loss: 0.0640\n",
            "Epoch 60/150\n",
            "76/76 [==============================] - 1s 12ms/step - loss: 0.0361 - val_loss: 0.0642\n",
            "Epoch 61/150\n",
            "76/76 [==============================] - 1s 12ms/step - loss: 0.0362 - val_loss: 0.0612\n",
            "Epoch 62/150\n",
            "76/76 [==============================] - 1s 12ms/step - loss: 0.0369 - val_loss: 0.0620\n",
            "Epoch 63/150\n",
            "76/76 [==============================] - 1s 12ms/step - loss: 0.0362 - val_loss: 0.0642\n",
            "Epoch 64/150\n",
            "76/76 [==============================] - 1s 12ms/step - loss: 0.0373 - val_loss: 0.0640\n",
            "Epoch 65/150\n",
            "76/76 [==============================] - 1s 12ms/step - loss: 0.0382 - val_loss: 0.0657\n",
            "Epoch 66/150\n",
            "76/76 [==============================] - 1s 12ms/step - loss: 0.0356 - val_loss: 0.0633\n",
            "Epoch 67/150\n",
            "76/76 [==============================] - 1s 12ms/step - loss: 0.0378 - val_loss: 0.0660\n",
            "Epoch 68/150\n",
            "76/76 [==============================] - 1s 12ms/step - loss: 0.0356 - val_loss: 0.0614\n",
            "Epoch 69/150\n",
            "76/76 [==============================] - 1s 12ms/step - loss: 0.0376 - val_loss: 0.0637\n",
            "Epoch 70/150\n",
            "76/76 [==============================] - 1s 12ms/step - loss: 0.0362 - val_loss: 0.0657\n",
            "Epoch 71/150\n",
            "76/76 [==============================] - 1s 12ms/step - loss: 0.0369 - val_loss: 0.0671\n",
            "Epoch 72/150\n",
            "76/76 [==============================] - 1s 12ms/step - loss: 0.0399 - val_loss: 0.0659\n",
            "Epoch 73/150\n",
            "76/76 [==============================] - 1s 12ms/step - loss: 0.0374 - val_loss: 0.0641\n",
            "Epoch 74/150\n",
            "76/76 [==============================] - 1s 12ms/step - loss: 0.0346 - val_loss: 0.0655\n",
            "Epoch 75/150\n",
            "76/76 [==============================] - 1s 12ms/step - loss: 0.0371 - val_loss: 0.0654\n",
            "Epoch 76/150\n",
            "76/76 [==============================] - 1s 12ms/step - loss: 0.0374 - val_loss: 0.0632\n",
            "Epoch 77/150\n",
            "76/76 [==============================] - 1s 12ms/step - loss: 0.0371 - val_loss: 0.0650\n",
            "Epoch 78/150\n",
            "76/76 [==============================] - 1s 12ms/step - loss: 0.0371 - val_loss: 0.0663\n",
            "Epoch 79/150\n",
            "76/76 [==============================] - 1s 12ms/step - loss: 0.0368 - val_loss: 0.0653\n",
            "Epoch 80/150\n",
            "76/76 [==============================] - 1s 12ms/step - loss: 0.0356 - val_loss: 0.0640\n",
            "Epoch 81/150\n",
            "76/76 [==============================] - 1s 12ms/step - loss: 0.0367 - val_loss: 0.0644\n",
            "Epoch 82/150\n",
            "76/76 [==============================] - 1s 12ms/step - loss: 0.0358 - val_loss: 0.0654\n",
            "Epoch 83/150\n",
            "76/76 [==============================] - 1s 12ms/step - loss: 0.0373 - val_loss: 0.0664\n",
            "Epoch 84/150\n",
            "76/76 [==============================] - 1s 12ms/step - loss: 0.0346 - val_loss: 0.0630\n",
            "Epoch 85/150\n",
            "76/76 [==============================] - 1s 12ms/step - loss: 0.0351 - val_loss: 0.0656\n",
            "Epoch 86/150\n",
            "76/76 [==============================] - 1s 12ms/step - loss: 0.0348 - val_loss: 0.0640\n",
            "Epoch 87/150\n",
            "76/76 [==============================] - 1s 12ms/step - loss: 0.0360 - val_loss: 0.0630\n",
            "Epoch 88/150\n",
            "76/76 [==============================] - 1s 12ms/step - loss: 0.0342 - val_loss: 0.0642\n",
            "Epoch 89/150\n",
            "76/76 [==============================] - 1s 13ms/step - loss: 0.0361 - val_loss: 0.0646\n",
            "Epoch 90/150\n",
            "76/76 [==============================] - 1s 12ms/step - loss: 0.0374 - val_loss: 0.0627\n",
            "Epoch 91/150\n",
            "76/76 [==============================] - 1s 12ms/step - loss: 0.0372 - val_loss: 0.0635\n",
            "Epoch 92/150\n",
            "76/76 [==============================] - 1s 12ms/step - loss: 0.0321 - val_loss: 0.0631\n",
            "Epoch 93/150\n",
            "76/76 [==============================] - 1s 12ms/step - loss: 0.0352 - val_loss: 0.0635\n",
            "Epoch 94/150\n",
            "76/76 [==============================] - 1s 12ms/step - loss: 0.0345 - val_loss: 0.0631\n",
            "Epoch 95/150\n",
            "76/76 [==============================] - 1s 12ms/step - loss: 0.0359 - val_loss: 0.0633\n",
            "Epoch 96/150\n",
            "76/76 [==============================] - 1s 12ms/step - loss: 0.0364 - val_loss: 0.0640\n",
            "Epoch 97/150\n",
            "76/76 [==============================] - 1s 12ms/step - loss: 0.0348 - val_loss: 0.0667\n",
            "Epoch 98/150\n",
            "76/76 [==============================] - 1s 12ms/step - loss: 0.0361 - val_loss: 0.0664\n",
            "Epoch 99/150\n",
            "76/76 [==============================] - 1s 12ms/step - loss: 0.0361 - val_loss: 0.0705\n",
            "Epoch 100/150\n",
            "76/76 [==============================] - 1s 12ms/step - loss: 0.0333 - val_loss: 0.0649\n",
            "Epoch 101/150\n",
            "76/76 [==============================] - 1s 12ms/step - loss: 0.0369 - val_loss: 0.0691\n",
            "Epoch 102/150\n",
            "76/76 [==============================] - 1s 12ms/step - loss: 0.0367 - val_loss: 0.0661\n",
            "Epoch 103/150\n",
            "76/76 [==============================] - 1s 12ms/step - loss: 0.0355 - val_loss: 0.0686\n",
            "Epoch 104/150\n",
            "76/76 [==============================] - 1s 12ms/step - loss: 0.0348 - val_loss: 0.0677\n",
            "Epoch 105/150\n",
            "76/76 [==============================] - 1s 12ms/step - loss: 0.0341 - val_loss: 0.0666\n",
            "Epoch 106/150\n",
            "76/76 [==============================] - 1s 12ms/step - loss: 0.0347 - val_loss: 0.0702\n",
            "Epoch 107/150\n",
            "76/76 [==============================] - 1s 12ms/step - loss: 0.0368 - val_loss: 0.0670\n",
            "Epoch 108/150\n",
            "76/76 [==============================] - 1s 12ms/step - loss: 0.0357 - val_loss: 0.0628\n",
            "Epoch 109/150\n",
            "76/76 [==============================] - 1s 12ms/step - loss: 0.0327 - val_loss: 0.0644\n",
            "Epoch 110/150\n",
            "76/76 [==============================] - 1s 12ms/step - loss: 0.0356 - val_loss: 0.0638\n",
            "Epoch 111/150\n",
            "76/76 [==============================] - 1s 12ms/step - loss: 0.0366 - val_loss: 0.0633\n",
            "Epoch 112/150\n",
            "76/76 [==============================] - 1s 12ms/step - loss: 0.0328 - val_loss: 0.0637\n",
            "Epoch 113/150\n",
            "76/76 [==============================] - 1s 12ms/step - loss: 0.0351 - val_loss: 0.0652\n",
            "Epoch 114/150\n",
            "76/76 [==============================] - 1s 12ms/step - loss: 0.0349 - val_loss: 0.0676\n",
            "Epoch 115/150\n",
            "76/76 [==============================] - 1s 12ms/step - loss: 0.0352 - val_loss: 0.0650\n",
            "Epoch 116/150\n",
            "76/76 [==============================] - 1s 12ms/step - loss: 0.0348 - val_loss: 0.0652\n",
            "Epoch 117/150\n",
            "76/76 [==============================] - 1s 12ms/step - loss: 0.0342 - val_loss: 0.0666\n",
            "Epoch 118/150\n",
            "76/76 [==============================] - 1s 12ms/step - loss: 0.0323 - val_loss: 0.0647\n",
            "Epoch 119/150\n",
            "76/76 [==============================] - 1s 12ms/step - loss: 0.0344 - val_loss: 0.0652\n",
            "Epoch 120/150\n",
            "76/76 [==============================] - 1s 12ms/step - loss: 0.0336 - val_loss: 0.0667\n",
            "Epoch 121/150\n",
            "76/76 [==============================] - 1s 12ms/step - loss: 0.0339 - val_loss: 0.0733\n",
            "Epoch 122/150\n",
            "76/76 [==============================] - 1s 12ms/step - loss: 0.0344 - val_loss: 0.0659\n",
            "Epoch 123/150\n",
            "76/76 [==============================] - 1s 12ms/step - loss: 0.0337 - val_loss: 0.0672\n",
            "Epoch 124/150\n",
            "76/76 [==============================] - 1s 12ms/step - loss: 0.0355 - val_loss: 0.0668\n",
            "Epoch 125/150\n",
            "76/76 [==============================] - 1s 12ms/step - loss: 0.0341 - val_loss: 0.0687\n",
            "Epoch 126/150\n",
            "76/76 [==============================] - 1s 12ms/step - loss: 0.0336 - val_loss: 0.0702\n",
            "Epoch 127/150\n",
            "76/76 [==============================] - 1s 12ms/step - loss: 0.0359 - val_loss: 0.0674\n",
            "Epoch 128/150\n",
            "76/76 [==============================] - 1s 12ms/step - loss: 0.0339 - val_loss: 0.0646\n",
            "Epoch 129/150\n",
            "76/76 [==============================] - 1s 12ms/step - loss: 0.0332 - val_loss: 0.0696\n",
            "Epoch 130/150\n",
            "76/76 [==============================] - 1s 13ms/step - loss: 0.0356 - val_loss: 0.0668\n",
            "Epoch 131/150\n",
            "76/76 [==============================] - 1s 12ms/step - loss: 0.0336 - val_loss: 0.0672\n",
            "Epoch 132/150\n",
            "76/76 [==============================] - 1s 12ms/step - loss: 0.0359 - val_loss: 0.0689\n",
            "Epoch 133/150\n",
            "76/76 [==============================] - 1s 12ms/step - loss: 0.0315 - val_loss: 0.0638\n",
            "Epoch 134/150\n",
            "76/76 [==============================] - 1s 12ms/step - loss: 0.0330 - val_loss: 0.0681\n",
            "Epoch 135/150\n",
            "76/76 [==============================] - 1s 12ms/step - loss: 0.0323 - val_loss: 0.0672\n",
            "Epoch 136/150\n",
            "76/76 [==============================] - 1s 12ms/step - loss: 0.0321 - val_loss: 0.0690\n",
            "Epoch 137/150\n",
            "76/76 [==============================] - 1s 12ms/step - loss: 0.0341 - val_loss: 0.0712\n",
            "Epoch 138/150\n",
            "76/76 [==============================] - 1s 12ms/step - loss: 0.0339 - val_loss: 0.0683\n",
            "Epoch 139/150\n",
            "76/76 [==============================] - 1s 12ms/step - loss: 0.0334 - val_loss: 0.0669\n",
            "Epoch 140/150\n",
            "76/76 [==============================] - 1s 12ms/step - loss: 0.0323 - val_loss: 0.0670\n",
            "Epoch 141/150\n",
            "76/76 [==============================] - 1s 12ms/step - loss: 0.0347 - val_loss: 0.0662\n",
            "Epoch 142/150\n",
            "76/76 [==============================] - 1s 12ms/step - loss: 0.0332 - val_loss: 0.0632\n",
            "Epoch 143/150\n",
            "76/76 [==============================] - 1s 12ms/step - loss: 0.0344 - val_loss: 0.0673\n",
            "Epoch 144/150\n",
            "76/76 [==============================] - 1s 12ms/step - loss: 0.0354 - val_loss: 0.0659\n",
            "Epoch 145/150\n",
            "76/76 [==============================] - 1s 12ms/step - loss: 0.0339 - val_loss: 0.0694\n",
            "Epoch 146/150\n",
            "76/76 [==============================] - 1s 12ms/step - loss: 0.0353 - val_loss: 0.0635\n",
            "Epoch 147/150\n",
            "76/76 [==============================] - 1s 12ms/step - loss: 0.0329 - val_loss: 0.0655\n",
            "Epoch 148/150\n",
            "76/76 [==============================] - 1s 12ms/step - loss: 0.0315 - val_loss: 0.0659\n",
            "Epoch 149/150\n",
            "76/76 [==============================] - 1s 12ms/step - loss: 0.0335 - val_loss: 0.0663\n",
            "Epoch 150/150\n",
            "76/76 [==============================] - 1s 12ms/step - loss: 0.0326 - val_loss: 0.0676\n"
          ]
        }
      ]
    },
    {
      "cell_type": "code",
      "source": [
        "plt.plot(history_3.history['loss'])\n",
        "plt.plot(history_3.history['val_loss'])\n",
        "\n",
        "plt.show()"
      ],
      "metadata": {
        "colab": {
          "base_uri": "https://localhost:8080/",
          "height": 265
        },
        "id": "6bJ4no-74HXK",
        "outputId": "3f14945c-cc8f-42be-e8a1-6a22759b2116"
      },
      "execution_count": null,
      "outputs": [
        {
          "output_type": "display_data",
          "data": {
            "text/plain": [
              "<Figure size 432x288 with 1 Axes>"
            ],
            "image/png": "[encoded data removed]"
          },
          "metadata": {
            "needs_background": "light"
          }
        }
      ]
    },
    {
      "cell_type": "code",
      "source": [
        "predict = model_ula.predict(x_test)"
      ],
      "metadata": {
        "id": "TNF4GHZP333a"
      },
      "execution_count": null,
      "outputs": []
    },
    {
      "cell_type": "code",
      "source": [
        "print(predict)\n",
        "print(predict.shape)\n",
        "\n",
        "predict_inverse = y_scaler.inverse_transform(predict).flatten()\n",
        "\n",
        "print(predict_inverse)\n",
        "print(predict_inverse.shape)\n",
        "\n",
        "print(y_test)"
      ],
      "metadata": {
        "id": "B8CnM1lE2uIh",
        "outputId": "dcebbfd5-6b8a-4ac5-a646-2702d1852ef9",
        "colab": {
          "base_uri": "https://localhost:8080/"
        }
      },
      "execution_count": null,
      "outputs": [
        {
          "output_type": "stream",
          "name": "stdout",
          "text": [
            "[[ 0.21707428]\n",
            " [ 0.46900186]\n",
            " [-0.5101507 ]\n",
            " ...\n",
            " [-0.74794495]\n",
            " [ 0.6383561 ]\n",
            " [-0.68522465]]\n",
            "(7011, 1)\n",
            "[663322.75 821052.2  208014.25 ...  59133.53 927083.25  98402.09]\n",
            "(7011,)\n",
            "[ 700000.  855000.  190000. ...   55000. 1195000.  100000.]\n"
          ]
        }
      ]
    },
    {
      "cell_type": "code",
      "source": [
        "delta = y_test - predict_inverse\n",
        "abs_delta = abs(delta)\n",
        "mean_delta = sum(abs_delta) / len(abs_delta)\n",
        "mean_price = sum(y_test) / len(y_test)\n",
        "loss = round((100 * mean_delta / mean_price), 2)\n",
        "\n",
        "print('Ошибка равна:', loss, '%')\n"
      ],
      "metadata": {
        "colab": {
          "base_uri": "https://localhost:8080/"
        },
        "id": "mE6xF8OMBJOa",
        "outputId": "2b8a16ad-7c0c-4c91-8dfa-6b9cbc5af8f9"
      },
      "execution_count": null,
      "outputs": [
        {
          "output_type": "stream",
          "name": "stdout",
          "text": [
            "Ошибка равна: 9.4 %\n"
          ]
        }
      ]
    }
  ]
}